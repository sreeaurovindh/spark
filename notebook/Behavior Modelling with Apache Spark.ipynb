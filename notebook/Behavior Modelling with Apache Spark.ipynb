{
 "cells": [
  {
   "cell_type": "markdown",
   "metadata": {},
   "source": [
    "# Behavioral Modelling with Apache Spark 2\n",
    "\n",
    "This notebook describes how apache spark was used to perform behavior modelling using the Yahoo WebScope dataset. The data can be requested for research purposes from <a href=\"https://webscope.sandbox.yahoo.com/catalog.php?datatype=a\">Yahoo's Webscope site</a>. This article describes three different steps that I attempted inorder to work on behavioral minstallation of Apache spark on a local system. It also describes how apache spark cluster can be spun off on \n",
    "\n",
    "## 1. Installation of Apache Spark 2 On Local System with Ubuntu\n",
    "\n",
    "This notebook provides a basic introduction to Spark and describes various RDD opearations that can be performed on the Spark Machine. It also provides installation instructions on how to operate Spark 2 with Jupyter Notebook on a single node cluster. The operating system used for this example is Ubuntu 16.1\n",
    "\n",
    "The notebook can be accessed at <a href=\"\"> Spark Local System Installation with Ubuntu</a>\n",
    "\n",
    "## 2. Installation of Apache Spark Cluster on Google Cloud Compute\n",
    " \n",
    "## 3. Behavioral Modelling with Yahoo Webscope Dataset\n",
    "\n",
    "\n",
    "                                                                                                            \n",
    "                                                                                                            \n",
    "                                                                                                            \n",
    " \n",
    " \n",
    "\n",
    "<a href=\"http://www.sreeml.com/folio.html\">Back to Portfolio</a>"
   ]
  }
 ],
 "metadata": {
  "kernelspec": {
   "display_name": "Python 3",
   "language": "python",
   "name": "python3"
  },
  "language_info": {
   "codemirror_mode": {
    "name": "ipython",
    "version": 3
   },
   "file_extension": ".py",
   "mimetype": "text/x-python",
   "name": "python",
   "nbconvert_exporter": "python",
   "pygments_lexer": "ipython3",
   "version": "3.4.2"
  }
 },
 "nbformat": 4,
 "nbformat_minor": 2
}
